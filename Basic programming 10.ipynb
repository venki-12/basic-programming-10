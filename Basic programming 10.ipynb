{
 "cells": [
  {
   "cell_type": "code",
   "execution_count": 1,
   "metadata": {},
   "outputs": [],
   "source": [
    "#Write a Python program to find sum of elements in list?\n",
    "def sum_of_list(x):\n",
    "    print(f\"Sum of entered list is {sum(x)}\")"
   ]
  },
  {
   "cell_type": "code",
   "execution_count": 2,
   "metadata": {},
   "outputs": [],
   "source": [
    "#Write a Python program to Multiply all numbers in the list?\n",
    "def multiplylist(x):\n",
    "    result = 1\n",
    "    for i in x:\n",
    "        result = result * i\n",
    "    return result"
   ]
  },
  {
   "cell_type": "code",
   "execution_count": 3,
   "metadata": {},
   "outputs": [],
   "source": [
    "#Write a Python program to find smallest number in a list?\n",
    "def smallest_of_list(x):\n",
    "    print(\"Smallest Number of list is {}\".format(min(x)))"
   ]
  },
  {
   "cell_type": "code",
   "execution_count": 4,
   "metadata": {},
   "outputs": [],
   "source": [
    "#Write a Python program to find largest number in a list?\n",
    "def largest_of_list(x):\n",
    "    print(f\"Largest number of list is {max(x)}\")"
   ]
  },
  {
   "cell_type": "code",
   "execution_count": 5,
   "metadata": {},
   "outputs": [],
   "source": [
    "#Write a Python program to find second largest number in a list?\n",
    "def sec_largest_of_list(x):\n",
    "    x.sort()\n",
    "    return x[-2]"
   ]
  },
  {
   "cell_type": "code",
   "execution_count": 7,
   "metadata": {},
   "outputs": [],
   "source": [
    "#Write a Python program to find N largest elements from a list?\n",
    "def Nmaxelements(list1, N):\n",
    "    final_list = []\n",
    "  \n",
    "    for i in range(0, N): \n",
    "        max1 = 0\n",
    "          \n",
    "        for j in range(len(list1)):     \n",
    "            if list1[j] > max1:\n",
    "                max1 = list1[j];\n",
    "                  \n",
    "        list1.remove(max1);\n",
    "        final_list.append(max1)\n",
    "          \n",
    "    print(final_list)"
   ]
  },
  {
   "cell_type": "code",
   "execution_count": 8,
   "metadata": {},
   "outputs": [],
   "source": [
    "#Write a Python program to print even numbers in a List?\n",
    "def even_of_list(l):\n",
    "    even = []\n",
    "    for n in l:\n",
    "        if n % 2 == 0:\n",
    "            even.append(n)\n",
    "    return even"
   ]
  },
  {
   "cell_type": "code",
   "execution_count": 9,
   "metadata": {},
   "outputs": [],
   "source": [
    "#Write a Python program to print odd numbers in a List?\n",
    "def odd_of_list(l):\n",
    "    odd = []\n",
    "    for n in l:\n",
    "        if n % 2 != 0:\n",
    "            odd.append(n)\n",
    "    return odd"
   ]
  },
  {
   "cell_type": "code",
   "execution_count": 10,
   "metadata": {},
   "outputs": [],
   "source": [
    "#Write a Python program to Remove empty List from List?\n",
    "def remove_empty(list1):\n",
    "    res = [ele for ele in list1 if ele != []]\n",
    "    print(f\"List after removing empty list {res}\")"
   ]
  },
  {
   "cell_type": "code",
   "execution_count": 11,
   "metadata": {},
   "outputs": [],
   "source": [
    "#Write a Python program to Cloning or Copying a list?\n",
    "def copy_list(mylist):\n",
    "    x = mylist.copy()\n",
    "    return f\"Copy of {mylist} is {x}\""
   ]
  },
  {
   "cell_type": "code",
   "execution_count": 12,
   "metadata": {},
   "outputs": [],
   "source": [
    "#\n",
    "def occurences_of_ele(mylist):\n",
    "    occur = mylist.count(input(\"Enter element to check occurences\"))\n",
    "    return \n",
    "    "
   ]
  },
  {
   "cell_type": "code",
   "execution_count": 13,
   "metadata": {},
   "outputs": [],
   "source": [
    "#Write a Python program to Count occurrences of an element in a list?\n",
    "def count_ele(lst, x):\n",
    "    count = 0\n",
    "    for ele in lst:\n",
    "        if (ele == x):\n",
    "            count = count + 1\n",
    "    return f\"Number of times the element is present in list is {count}\""
   ]
  },
  {
   "cell_type": "code",
   "execution_count": null,
   "metadata": {},
   "outputs": [],
   "source": []
  }
 ],
 "metadata": {
  "kernelspec": {
   "display_name": "Python 3",
   "language": "python",
   "name": "python3"
  },
  "language_info": {
   "codemirror_mode": {
    "name": "ipython",
    "version": 3
   },
   "file_extension": ".py",
   "mimetype": "text/x-python",
   "name": "python",
   "nbconvert_exporter": "python",
   "pygments_lexer": "ipython3",
   "version": "3.8.5"
  }
 },
 "nbformat": 4,
 "nbformat_minor": 4
}
